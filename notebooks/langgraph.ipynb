{
 "cells": [
  {
   "cell_type": "code",
   "id": "initial_id",
   "metadata": {
    "collapsed": true,
    "ExecuteTime": {
     "end_time": "2025-04-08T12:16:04.417794Z",
     "start_time": "2025-04-08T12:16:04.389236Z"
    }
   },
   "source": [
    "from bpmn_python.bpmn_import_utils \n",
    "\n",
    "# Create a new BPMN diagram\n",
    "bpmn = Bpmn()\n",
    "\n",
    "# Define the start event\n",
    "start_event = StartEvent(\"Start\")\n",
    "\n",
    "# Define the tasks\n",
    "receive_order = Task(\"Receive Order\")\n",
    "process_order = Task(\"Process Order\")\n",
    "ship_order = Task(\"Ship Order\")\n",
    "complete_order = Task(\"Complete Order\")\n",
    "\n",
    "# Define the end event\n",
    "end_event = EndEvent(\"End\")\n",
    "\n",
    "# Add tasks and events to the BPMN diagram\n",
    "bpmn.add(start_event)\n",
    "bpmn.add(receive_order)\n",
    "bpmn.add(process_order)\n",
    "bpmn.add(ship_order)\n",
    "bpmn.add(complete_order)\n",
    "bpmn.add(end_event)\n",
    "\n",
    "# Define the sequence flow\n",
    "bpmn.add(SequenceFlow(start_event, receive_order))\n",
    "bpmn.add(SequenceFlow(receive_order, process_order))\n",
    "bpmn.add(SequenceFlow(process_order, ship_order))\n",
    "bpmn.add(SequenceFlow(ship_order, complete_order))\n",
    "bpmn.add(SequenceFlow(complete_order, end_event))\n",
    "\n",
    "# Save the BPMN diagram to a file\n",
    "bpmn.save(\"order_processing.bpmn\")"
   ],
   "outputs": [
    {
     "ename": "ImportError",
     "evalue": "cannot import name 'Bpmn' from 'bpmn_python' (C:\\Users\\User\\anaconda3\\envs\\IT-ONE-HACK\\lib\\site-packages\\bpmn_python\\__init__.py)",
     "output_type": "error",
     "traceback": [
      "\u001B[1;31m---------------------------------------------------------------------------\u001B[0m",
      "\u001B[1;31mImportError\u001B[0m                               Traceback (most recent call last)",
      "Cell \u001B[1;32mIn[3], line 1\u001B[0m\n\u001B[1;32m----> 1\u001B[0m \u001B[38;5;28;01mfrom\u001B[39;00m \u001B[38;5;21;01mbpmn_python\u001B[39;00m \u001B[38;5;28;01mimport\u001B[39;00m Bpmn, Task, SequenceFlow, StartEvent, EndEvent\n\u001B[0;32m      3\u001B[0m \u001B[38;5;66;03m# Create a new BPMN diagram\u001B[39;00m\n\u001B[0;32m      4\u001B[0m bpmn \u001B[38;5;241m=\u001B[39m Bpmn()\n",
      "\u001B[1;31mImportError\u001B[0m: cannot import name 'Bpmn' from 'bpmn_python' (C:\\Users\\User\\anaconda3\\envs\\IT-ONE-HACK\\lib\\site-packages\\bpmn_python\\__init__.py)"
     ]
    }
   ],
   "execution_count": 3
  },
  {
   "metadata": {},
   "cell_type": "code",
   "outputs": [],
   "execution_count": null,
   "source": "",
   "id": "98bb25a2f28f73a4"
  }
 ],
 "metadata": {
  "kernelspec": {
   "display_name": "Python 3",
   "language": "python",
   "name": "python3"
  },
  "language_info": {
   "codemirror_mode": {
    "name": "ipython",
    "version": 2
   },
   "file_extension": ".py",
   "mimetype": "text/x-python",
   "name": "python",
   "nbconvert_exporter": "python",
   "pygments_lexer": "ipython2",
   "version": "2.7.6"
  }
 },
 "nbformat": 4,
 "nbformat_minor": 5
}
