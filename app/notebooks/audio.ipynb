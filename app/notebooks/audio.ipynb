{
 "cells": [
  {
   "cell_type": "code",
   "id": "initial_id",
   "metadata": {
    "collapsed": true,
    "ExecuteTime": {
     "end_time": "2025-04-07T19:41:01.352960Z",
     "start_time": "2025-04-07T19:41:01.333069Z"
    }
   },
   "source": [
    "import os\n",
    "from pydub import AudioSegment\n",
    "from dotenv import load_dotenv\n",
    "\n",
    "# Загружаем переменные окружения\n",
    "load_dotenv()\n",
    "\n",
    "# Указываем путь к ffmpeg\n",
    "ffmpeg_path = os.getenv(\"FFMPEG_PATH\")\n",
    "AudioSegment.converter = ffmpeg_path\n",
    "\n",
    "print(\">> ffmpeg path:\", AudioSegment.converter)\n",
    "\n",
    "# Пробуем открыть и экспортировать файл\n",
    "sound = AudioSegment.silent(duration=5000)  # 1 секунда тишины\n",
    "sound.export(\"test_output.wav\", format=\"wav\")\n",
    "\n",
    "print(\"✅ Успешно экспортировано\")"
   ],
   "outputs": [
    {
     "name": "stdout",
     "output_type": "stream",
     "text": [
      ">> ffmpeg path: C:\\Users\\User\\ffmpeg-2025-03-31-git-35c091f4b7-essentials_build\\bin\\ffmpeg.exe\n",
      "✅ Успешно экспортировано\n"
     ]
    }
   ],
   "execution_count": 3
  }
 ],
 "metadata": {
  "kernelspec": {
   "display_name": "Python 3",
   "language": "python",
   "name": "python3"
  },
  "language_info": {
   "codemirror_mode": {
    "name": "ipython",
    "version": 2
   },
   "file_extension": ".py",
   "mimetype": "text/x-python",
   "name": "python",
   "nbconvert_exporter": "python",
   "pygments_lexer": "ipython2",
   "version": "2.7.6"
  }
 },
 "nbformat": 4,
 "nbformat_minor": 5
}
